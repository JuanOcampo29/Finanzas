{
  "nbformat": 4,
  "nbformat_minor": 0,
  "metadata": {
    "colab": {
      "provenance": [],
      "collapsed_sections": [
        "XR1-dbV0bfKL",
        "QUjO6ZjgN9vM",
        "Mz1tuKJWfC2f",
        "gU7k11xADllW",
        "WyNZ4mfdDyey",
        "YqKK04q_eDmj"
      ],
      "include_colab_link": true
    },
    "kernelspec": {
      "name": "python3",
      "display_name": "Python 3"
    },
    "language_info": {
      "name": "python"
    }
  },
  "cells": [
    {
      "cell_type": "markdown",
      "metadata": {
        "id": "view-in-github",
        "colab_type": "text"
      },
      "source": [
        "<a href=\"https://colab.research.google.com/github/JuanOcampo29/Finanzas/blob/main/Taller_2_Lizarazo_y_Ocampo.ipynb\" target=\"_parent\"><img src=\"https://colab.research.google.com/assets/colab-badge.svg\" alt=\"Open In Colab\"/></a>"
      ]
    },
    {
      "cell_type": "markdown",
      "source": [
        "#Taller 2\n",
        "###Realizado por Juan Alejandro Ocampo y María Paula Lizarazo Espinosa"
      ],
      "metadata": {
        "id": "Er-KEe0SNyWO"
      }
    },
    {
      "cell_type": "code",
      "source": [
        "import numpy as np\n",
        "import pandas as pd\n",
        "import matplotlib.pyplot as plt\n",
        "from scipy.optimize import minimize\n",
        "from scipy.optimize import linprog\n",
        "import cvxpy as cp"
      ],
      "metadata": {
        "id": "W3wWJCilQPuX"
      },
      "execution_count": null,
      "outputs": []
    },
    {
      "cell_type": "markdown",
      "source": [
        "## Punto 1"
      ],
      "metadata": {
        "id": "XR1-dbV0bfKL"
      }
    },
    {
      "cell_type": "markdown",
      "source": [
        "La empresa XYZ produce dos productos: A y B. La ganancia por unidad de A es de 3\n",
        "dólares y de B es de 5 dólares. Para su producción dispone de 500 unidades de materia\n",
        "prima, 1000 unidades de mano de obra y 2000 dólares de capital, de los cuales se\n",
        "necesitan para producir una unidad de:\n",
        "\n",
        "i) A: una unidad de materia prima, dos unidades de mano de obra y una unidad de capital.\n",
        "\n",
        "ii) B: una unidad de materia prima, cuatro unidades de mano de obra y dos unidades de\n",
        "capital.\n",
        "Además, se necesita producir al menos 100 unidades de A y 150 unidades de B para\n",
        "satisfacer la demanda del mercado.\n",
        "\n",
        "Encuentre la asignación óptima de A y B que maximizan las ganancias de la empresa.\n",
        "Para ello, formule un problema de LP utilizando Scipy."
      ],
      "metadata": {
        "id": "AIUkSfS0ryXM"
      }
    },
    {
      "cell_type": "code",
      "source": [
        "tabla_punto_1 = pd.DataFrame({' ' : ['Materia prima', 'Mano de obra', 'Capital','Ganancia'],\n",
        "        'Producto A' : [1, 2, 1, 3],\n",
        "        'Producto B' : [1, 4, 2, 5]})\n",
        "tabla_punto_1"
      ],
      "metadata": {
        "id": "9rzI1gI6bemV"
      },
      "execution_count": null,
      "outputs": []
    },
    {
      "cell_type": "code",
      "source": [
        "# Función a maximizar\n",
        "c = np.array([3,5])\n",
        "\n",
        "# Restricciones de desigualdad\n",
        "A = np.array([[-1,0],\n",
        "              [0,-1],\n",
        "             [1,1],\n",
        "             [2,4],\n",
        "             [1, 2]])\n",
        "\n",
        "b = np.array([-100,-150,500, 1000, 2000])\n",
        "\n",
        "# Solución del problema\n",
        "res = linprog(-c, A_ub=A, b_ub=b, method='simplex') \n",
        "res"
      ],
      "metadata": {
        "id": "IWjehhtwtuZP",
        "colab": {
          "base_uri": "https://localhost:8080/"
        },
        "outputId": "4f333eb6-3b80-4c7c-b68f-a22297cb8f63"
      },
      "execution_count": null,
      "outputs": [
        {
          "output_type": "stream",
          "name": "stderr",
          "text": [
            "<ipython-input-4-12ebba9f6dee>:14: DeprecationWarning: `method='simplex'` is deprecated and will be removed in SciPy 1.11.0. Please use one of the HiGHS solvers (e.g. `method='highs'`) in new code.\n",
            "  res = linprog(-c, A_ub=A, b_ub=b, method='simplex')\n"
          ]
        },
        {
          "output_type": "execute_result",
          "data": {
            "text/plain": [
              " message: Optimization terminated successfully.\n",
              " success: True\n",
              "  status: 0\n",
              "     fun: -1350.0\n",
              "       x: [ 2.000e+02  1.500e+02]\n",
              "     nit: 4"
            ]
          },
          "metadata": {},
          "execution_count": 4
        }
      ]
    },
    {
      "cell_type": "markdown",
      "source": [
        "Para maximizar las ganancias de la empresa, se dene producir 200 unidades del producto A y 150 del producto B, obteniendo una rentabilidad/ganacia máxima de 1350."
      ],
      "metadata": {
        "id": "bGt9ibBOGIkt"
      }
    },
    {
      "cell_type": "markdown",
      "source": [
        "##Punto 2"
      ],
      "metadata": {
        "id": "QUjO6ZjgN9vM"
      }
    },
    {
      "cell_type": "code",
      "execution_count": null,
      "metadata": {
        "colab": {
          "base_uri": "https://localhost:8080/",
          "height": 175
        },
        "id": "tp48_VA_Nsy4",
        "outputId": "b54ab386-b9d0-411b-c774-b5ec04288541"
      },
      "outputs": [
        {
          "output_type": "execute_result",
          "data": {
            "text/plain": [
              "         Fondo 1 Fondo 2 Fondo 3 Fondo 4\n",
              "Valor        50%     30%     25%     60%\n",
              "Tamaño       30%     10%     40%     20%\n",
              "Liquidez     20%     60%     35%     20%\n",
              "E(R)         10%     15%     16%      8%"
            ],
            "text/html": [
              "\n",
              "  <div id=\"df-2e12fbc8-868e-429d-9fdb-eaeb51641a9d\">\n",
              "    <div class=\"colab-df-container\">\n",
              "      <div>\n",
              "<style scoped>\n",
              "    .dataframe tbody tr th:only-of-type {\n",
              "        vertical-align: middle;\n",
              "    }\n",
              "\n",
              "    .dataframe tbody tr th {\n",
              "        vertical-align: top;\n",
              "    }\n",
              "\n",
              "    .dataframe thead th {\n",
              "        text-align: right;\n",
              "    }\n",
              "</style>\n",
              "<table border=\"1\" class=\"dataframe\">\n",
              "  <thead>\n",
              "    <tr style=\"text-align: right;\">\n",
              "      <th></th>\n",
              "      <th>Fondo 1</th>\n",
              "      <th>Fondo 2</th>\n",
              "      <th>Fondo 3</th>\n",
              "      <th>Fondo 4</th>\n",
              "    </tr>\n",
              "  </thead>\n",
              "  <tbody>\n",
              "    <tr>\n",
              "      <th>Valor</th>\n",
              "      <td>50%</td>\n",
              "      <td>30%</td>\n",
              "      <td>25%</td>\n",
              "      <td>60%</td>\n",
              "    </tr>\n",
              "    <tr>\n",
              "      <th>Tamaño</th>\n",
              "      <td>30%</td>\n",
              "      <td>10%</td>\n",
              "      <td>40%</td>\n",
              "      <td>20%</td>\n",
              "    </tr>\n",
              "    <tr>\n",
              "      <th>Liquidez</th>\n",
              "      <td>20%</td>\n",
              "      <td>60%</td>\n",
              "      <td>35%</td>\n",
              "      <td>20%</td>\n",
              "    </tr>\n",
              "    <tr>\n",
              "      <th>E(R)</th>\n",
              "      <td>10%</td>\n",
              "      <td>15%</td>\n",
              "      <td>16%</td>\n",
              "      <td>8%</td>\n",
              "    </tr>\n",
              "  </tbody>\n",
              "</table>\n",
              "</div>\n",
              "      <button class=\"colab-df-convert\" onclick=\"convertToInteractive('df-2e12fbc8-868e-429d-9fdb-eaeb51641a9d')\"\n",
              "              title=\"Convert this dataframe to an interactive table.\"\n",
              "              style=\"display:none;\">\n",
              "        \n",
              "  <svg xmlns=\"http://www.w3.org/2000/svg\" height=\"24px\"viewBox=\"0 0 24 24\"\n",
              "       width=\"24px\">\n",
              "    <path d=\"M0 0h24v24H0V0z\" fill=\"none\"/>\n",
              "    <path d=\"M18.56 5.44l.94 2.06.94-2.06 2.06-.94-2.06-.94-.94-2.06-.94 2.06-2.06.94zm-11 1L8.5 8.5l.94-2.06 2.06-.94-2.06-.94L8.5 2.5l-.94 2.06-2.06.94zm10 10l.94 2.06.94-2.06 2.06-.94-2.06-.94-.94-2.06-.94 2.06-2.06.94z\"/><path d=\"M17.41 7.96l-1.37-1.37c-.4-.4-.92-.59-1.43-.59-.52 0-1.04.2-1.43.59L10.3 9.45l-7.72 7.72c-.78.78-.78 2.05 0 2.83L4 21.41c.39.39.9.59 1.41.59.51 0 1.02-.2 1.41-.59l7.78-7.78 2.81-2.81c.8-.78.8-2.07 0-2.86zM5.41 20L4 18.59l7.72-7.72 1.47 1.35L5.41 20z\"/>\n",
              "  </svg>\n",
              "      </button>\n",
              "      \n",
              "  <style>\n",
              "    .colab-df-container {\n",
              "      display:flex;\n",
              "      flex-wrap:wrap;\n",
              "      gap: 12px;\n",
              "    }\n",
              "\n",
              "    .colab-df-convert {\n",
              "      background-color: #E8F0FE;\n",
              "      border: none;\n",
              "      border-radius: 50%;\n",
              "      cursor: pointer;\n",
              "      display: none;\n",
              "      fill: #1967D2;\n",
              "      height: 32px;\n",
              "      padding: 0 0 0 0;\n",
              "      width: 32px;\n",
              "    }\n",
              "\n",
              "    .colab-df-convert:hover {\n",
              "      background-color: #E2EBFA;\n",
              "      box-shadow: 0px 1px 2px rgba(60, 64, 67, 0.3), 0px 1px 3px 1px rgba(60, 64, 67, 0.15);\n",
              "      fill: #174EA6;\n",
              "    }\n",
              "\n",
              "    [theme=dark] .colab-df-convert {\n",
              "      background-color: #3B4455;\n",
              "      fill: #D2E3FC;\n",
              "    }\n",
              "\n",
              "    [theme=dark] .colab-df-convert:hover {\n",
              "      background-color: #434B5C;\n",
              "      box-shadow: 0px 1px 3px 1px rgba(0, 0, 0, 0.15);\n",
              "      filter: drop-shadow(0px 1px 2px rgba(0, 0, 0, 0.3));\n",
              "      fill: #FFFFFF;\n",
              "    }\n",
              "  </style>\n",
              "\n",
              "      <script>\n",
              "        const buttonEl =\n",
              "          document.querySelector('#df-2e12fbc8-868e-429d-9fdb-eaeb51641a9d button.colab-df-convert');\n",
              "        buttonEl.style.display =\n",
              "          google.colab.kernel.accessAllowed ? 'block' : 'none';\n",
              "\n",
              "        async function convertToInteractive(key) {\n",
              "          const element = document.querySelector('#df-2e12fbc8-868e-429d-9fdb-eaeb51641a9d');\n",
              "          const dataTable =\n",
              "            await google.colab.kernel.invokeFunction('convertToInteractive',\n",
              "                                                     [key], {});\n",
              "          if (!dataTable) return;\n",
              "\n",
              "          const docLinkHtml = 'Like what you see? Visit the ' +\n",
              "            '<a target=\"_blank\" href=https://colab.research.google.com/notebooks/data_table.ipynb>data table notebook</a>'\n",
              "            + ' to learn more about interactive tables.';\n",
              "          element.innerHTML = '';\n",
              "          dataTable['output_type'] = 'display_data';\n",
              "          await google.colab.output.renderOutput(dataTable, element);\n",
              "          const docLink = document.createElement('div');\n",
              "          docLink.innerHTML = docLinkHtml;\n",
              "          element.appendChild(docLink);\n",
              "        }\n",
              "      </script>\n",
              "    </div>\n",
              "  </div>\n",
              "  "
            ]
          },
          "metadata": {},
          "execution_count": 8
        }
      ],
      "source": [
        "tabla_punto_2 = pd.DataFrame({'Valor' : [\"50%\",\"30%\", \"25%\",\"60%\"],\n",
        "        'Tamaño' : [\"30%\",\"10%\", \"40%\",\"20%\"],\n",
        "        'Liquidez' : [\"20%\",\"60%\", \"35%\",\"20%\"],\n",
        "        'E(R)' : [\"10%\",\"15%\", \"16%\",\"8%\"]})\n",
        "tabla_punto_2.index=('Fondo 1', 'Fondo 2', 'Fondo 3','Fondo 4')\n",
        "tabla_punto_2.T"
      ]
    },
    {
      "cell_type": "markdown",
      "source": [
        "Consideramos: \n",
        "\n",
        "$$0.5 x_1 + 0.3 x_2 + 0.25 x_3 + 0.6 x_4 ≥ 0.35 (valor)$$\n",
        "\n",
        "$$0.3 x_1 + 0.1 x_2 + 0.4 x_3 + 0.2 x_4 ≥ 0.30 (tamaño)$$\n",
        "\n",
        "$$0.2 x_1 + 0.6 x_2 + 0.35 x_3 + 0.2 x_4 ≥ 0.15 (liquidez)$$\n",
        "\n",
        "$$x_1 + x_2 + x_3 + x_4 = $100$$\n",
        "\n",
        "$$x_1, x_2, x_3, x_4 ≥ 0$$"
      ],
      "metadata": {
        "id": "NxOsTSKdTlcJ"
      }
    },
    {
      "cell_type": "code",
      "source": [
        "#Con librerías de scipy\n",
        "\n",
        "# Matriz C\n",
        "c2 = np.array([0.1,0.15,0.16,0.08])\n",
        "\n",
        "# Restricciones de igualdad\n",
        "A2 = np.array([[1,1,1,1]])\n",
        "b2 = np.array([100])\n",
        "\n",
        "D2 = np.array([[-0.5,-0.3,-0.25,-0.6],\n",
        "              [-0.3,-0.1,-0.4,-0.2],\n",
        "              [-0.2,-0.6,-0.35,-0.2]])\n",
        "              \n",
        "d2 = np.array([-35,-30,-15])\n",
        "\n",
        "# Bounds on decision variables\n",
        "bounds = [(0,None),\n",
        "          (0,None),\n",
        "          (0,None),\n",
        "          (0,None)]\n",
        "\n",
        "# Solve the problem:\n",
        "solution = linprog(-c2, A_eq=A2, b_eq=b2,A_ub=D2, b_ub=d2,\n",
        "                  bounds=bounds, method='simplex')\n",
        "\n",
        "solution"
      ],
      "metadata": {
        "colab": {
          "base_uri": "https://localhost:8080/"
        },
        "id": "M0bBr-MbSlzL",
        "outputId": "b96f0b8d-e3f3-4bb8-aab4-c2f6d67a51db"
      },
      "execution_count": null,
      "outputs": [
        {
          "output_type": "stream",
          "name": "stderr",
          "text": [
            "<ipython-input-5-0ba926f1914a>:23: DeprecationWarning: `method='simplex'` is deprecated and will be removed in SciPy 1.11.0. Please use one of the HiGHS solvers (e.g. `method='highs'`) in new code.\n",
            "  solution = linprog(-c2, A_eq=A2, b_eq=b2,A_ub=D2, b_ub=d2,\n"
          ]
        },
        {
          "output_type": "execute_result",
          "data": {
            "text/plain": [
              " message: Optimization terminated successfully.\n",
              " success: True\n",
              "  status: 0\n",
              "     fun: -13.736842105263158\n",
              "       x: [ 0.000e+00  1.579e+01  5.789e+01  2.632e+01]\n",
              "     nit: 7"
            ]
          },
          "metadata": {},
          "execution_count": 5
        }
      ]
    },
    {
      "cell_type": "code",
      "source": [
        "#Con cvx\n",
        "#Número de variables\n",
        "n=4\n",
        "x = cp.Variable(n)\n",
        "objective=cp.Minimize(-c2@x)\n",
        "#Restricciones\n",
        "constraints = [A2@x==b2,D2@x<=d2,x>=0,x<=100]\n",
        "#Planteamiento del problema\n",
        "prob=cp.Problem(objective,constraints)\n",
        "#Solución\n",
        "results=prob.solve()\n",
        "sol=pd.DataFrame(x.value)\n",
        "print(round(sol,2))"
      ],
      "metadata": {
        "colab": {
          "base_uri": "https://localhost:8080/"
        },
        "id": "a1Uy1zOhcGBs",
        "outputId": "63295ecc-c8a0-4c26-d181-38de89d661d5"
      },
      "execution_count": null,
      "outputs": [
        {
          "output_type": "stream",
          "name": "stdout",
          "text": [
            "       0\n",
            "0   0.00\n",
            "1  15.79\n",
            "2  57.89\n",
            "3  26.32\n"
          ]
        }
      ]
    },
    {
      "cell_type": "markdown",
      "source": [
        "Se deben invertir 15.79 millones en el fondo 2, 57.89 millones en el fondo 2 y 26.32 millones en el fondo 4 para maximizar la ganancia que, en este caso, es de 13.73 millones"
      ],
      "metadata": {
        "id": "kdIiekt6M6E_"
      }
    },
    {
      "cell_type": "markdown",
      "source": [
        "##Punto 3\n",
        "\n"
      ],
      "metadata": {
        "id": "Mz1tuKJWfC2f"
      }
    },
    {
      "cell_type": "code",
      "source": [
        "tabla_punto_3 = pd.DataFrame({'Mes' : [\"\",\"Ene\",\"Feb\",\"Mar\",\"Abr\",\"May\",\"Jun\"],\n",
        "        'FC neto' : [\"\",-150,-100,200,-200,50,300]})\n",
        "tabla_punto_3.T"
      ],
      "metadata": {
        "colab": {
          "base_uri": "https://localhost:8080/",
          "height": 112
        },
        "id": "AoihM47EfF9t",
        "outputId": "9cf9db8b-c324-4f42-f549-68651e6ad846"
      },
      "execution_count": null,
      "outputs": [
        {
          "output_type": "execute_result",
          "data": {
            "text/plain": [
              "        0     1     2    3     4    5    6\n",
              "Mes         Ene   Feb  Mar   Abr  May  Jun\n",
              "FC neto    -150  -100  200  -200   50  300"
            ],
            "text/html": [
              "\n",
              "  <div id=\"df-a26fb311-c788-4b99-b765-e32ed1b08c57\">\n",
              "    <div class=\"colab-df-container\">\n",
              "      <div>\n",
              "<style scoped>\n",
              "    .dataframe tbody tr th:only-of-type {\n",
              "        vertical-align: middle;\n",
              "    }\n",
              "\n",
              "    .dataframe tbody tr th {\n",
              "        vertical-align: top;\n",
              "    }\n",
              "\n",
              "    .dataframe thead th {\n",
              "        text-align: right;\n",
              "    }\n",
              "</style>\n",
              "<table border=\"1\" class=\"dataframe\">\n",
              "  <thead>\n",
              "    <tr style=\"text-align: right;\">\n",
              "      <th></th>\n",
              "      <th>0</th>\n",
              "      <th>1</th>\n",
              "      <th>2</th>\n",
              "      <th>3</th>\n",
              "      <th>4</th>\n",
              "      <th>5</th>\n",
              "      <th>6</th>\n",
              "    </tr>\n",
              "  </thead>\n",
              "  <tbody>\n",
              "    <tr>\n",
              "      <th>Mes</th>\n",
              "      <td></td>\n",
              "      <td>Ene</td>\n",
              "      <td>Feb</td>\n",
              "      <td>Mar</td>\n",
              "      <td>Abr</td>\n",
              "      <td>May</td>\n",
              "      <td>Jun</td>\n",
              "    </tr>\n",
              "    <tr>\n",
              "      <th>FC neto</th>\n",
              "      <td></td>\n",
              "      <td>-150</td>\n",
              "      <td>-100</td>\n",
              "      <td>200</td>\n",
              "      <td>-200</td>\n",
              "      <td>50</td>\n",
              "      <td>300</td>\n",
              "    </tr>\n",
              "  </tbody>\n",
              "</table>\n",
              "</div>\n",
              "      <button class=\"colab-df-convert\" onclick=\"convertToInteractive('df-a26fb311-c788-4b99-b765-e32ed1b08c57')\"\n",
              "              title=\"Convert this dataframe to an interactive table.\"\n",
              "              style=\"display:none;\">\n",
              "        \n",
              "  <svg xmlns=\"http://www.w3.org/2000/svg\" height=\"24px\"viewBox=\"0 0 24 24\"\n",
              "       width=\"24px\">\n",
              "    <path d=\"M0 0h24v24H0V0z\" fill=\"none\"/>\n",
              "    <path d=\"M18.56 5.44l.94 2.06.94-2.06 2.06-.94-2.06-.94-.94-2.06-.94 2.06-2.06.94zm-11 1L8.5 8.5l.94-2.06 2.06-.94-2.06-.94L8.5 2.5l-.94 2.06-2.06.94zm10 10l.94 2.06.94-2.06 2.06-.94-2.06-.94-.94-2.06-.94 2.06-2.06.94z\"/><path d=\"M17.41 7.96l-1.37-1.37c-.4-.4-.92-.59-1.43-.59-.52 0-1.04.2-1.43.59L10.3 9.45l-7.72 7.72c-.78.78-.78 2.05 0 2.83L4 21.41c.39.39.9.59 1.41.59.51 0 1.02-.2 1.41-.59l7.78-7.78 2.81-2.81c.8-.78.8-2.07 0-2.86zM5.41 20L4 18.59l7.72-7.72 1.47 1.35L5.41 20z\"/>\n",
              "  </svg>\n",
              "      </button>\n",
              "      \n",
              "  <style>\n",
              "    .colab-df-container {\n",
              "      display:flex;\n",
              "      flex-wrap:wrap;\n",
              "      gap: 12px;\n",
              "    }\n",
              "\n",
              "    .colab-df-convert {\n",
              "      background-color: #E8F0FE;\n",
              "      border: none;\n",
              "      border-radius: 50%;\n",
              "      cursor: pointer;\n",
              "      display: none;\n",
              "      fill: #1967D2;\n",
              "      height: 32px;\n",
              "      padding: 0 0 0 0;\n",
              "      width: 32px;\n",
              "    }\n",
              "\n",
              "    .colab-df-convert:hover {\n",
              "      background-color: #E2EBFA;\n",
              "      box-shadow: 0px 1px 2px rgba(60, 64, 67, 0.3), 0px 1px 3px 1px rgba(60, 64, 67, 0.15);\n",
              "      fill: #174EA6;\n",
              "    }\n",
              "\n",
              "    [theme=dark] .colab-df-convert {\n",
              "      background-color: #3B4455;\n",
              "      fill: #D2E3FC;\n",
              "    }\n",
              "\n",
              "    [theme=dark] .colab-df-convert:hover {\n",
              "      background-color: #434B5C;\n",
              "      box-shadow: 0px 1px 3px 1px rgba(0, 0, 0, 0.15);\n",
              "      filter: drop-shadow(0px 1px 2px rgba(0, 0, 0, 0.3));\n",
              "      fill: #FFFFFF;\n",
              "    }\n",
              "  </style>\n",
              "\n",
              "      <script>\n",
              "        const buttonEl =\n",
              "          document.querySelector('#df-a26fb311-c788-4b99-b765-e32ed1b08c57 button.colab-df-convert');\n",
              "        buttonEl.style.display =\n",
              "          google.colab.kernel.accessAllowed ? 'block' : 'none';\n",
              "\n",
              "        async function convertToInteractive(key) {\n",
              "          const element = document.querySelector('#df-a26fb311-c788-4b99-b765-e32ed1b08c57');\n",
              "          const dataTable =\n",
              "            await google.colab.kernel.invokeFunction('convertToInteractive',\n",
              "                                                     [key], {});\n",
              "          if (!dataTable) return;\n",
              "\n",
              "          const docLinkHtml = 'Like what you see? Visit the ' +\n",
              "            '<a target=\"_blank\" href=https://colab.research.google.com/notebooks/data_table.ipynb>data table notebook</a>'\n",
              "            + ' to learn more about interactive tables.';\n",
              "          element.innerHTML = '';\n",
              "          dataTable['output_type'] = 'display_data';\n",
              "          await google.colab.output.renderOutput(dataTable, element);\n",
              "          const docLink = document.createElement('div');\n",
              "          docLink.innerHTML = docLinkHtml;\n",
              "          element.appendChild(docLink);\n",
              "        }\n",
              "      </script>\n",
              "    </div>\n",
              "  </div>\n",
              "  "
            ]
          },
          "metadata": {},
          "execution_count": 25
        }
      ]
    },
    {
      "cell_type": "markdown",
      "source": [
        "Consideramos: \n",
        "$$x_1 + y_1 − z_1 = 150$$\n",
        "$$x_2+ y_2 −1.01x_1 + 1.003z_1 − z_2 = 100$$\n",
        "$$x_3 + y_3 −1.01 x_2 + 1.003 z_2 − z_3 = −200$$\n",
        "$$x_4 − 1.02 y_1 −1.01 x_3 + 1.003 z_3 − z_4 = 200$$\n",
        "$$x_5 − 1.02 y_2 −1.01 x_4 + 1.003 z_4 − z_5 = −50$$\n",
        "$$−1.02 y_3 −1.01 x_5 + 1.003 z_5 − z_6 = −300$$\n",
        "\n",
        "$$x_j ≤ 100 \\text {  para}\\ j = 1,2,3,4,5$$\n",
        "$$x_j ≥ 0 \\text {  para}\\ j = 1,2,3,4,5$$\n",
        "$$y_j ≥ 0 \\text {  para}\\ j = 1,2,3$$\n",
        "$$z_j ≥ 0 \\text {  para}\\ j = 1,2,3,4,5$$\n"
      ],
      "metadata": {
        "id": "rYH4dk1bjF1s"
      }
    },
    {
      "cell_type": "code",
      "source": [
        "#Con librerías de scipy\n",
        "\n",
        "# Matriz C\n",
        "c2 = np.array([0,0,0,0,0,0,0,0,0,0,0,0,0,1])\n",
        "\n",
        "# Restricciones de igualdad\n",
        "A2 = np.array([[1,0,0,0,0,1,0,0,-1,0,0,0,0,0],\n",
        "              [-1.01,1,0,0,0,0,1,0,1.003,-1,0,0,0,0],\n",
        "              [0,-1.01,1,0,0,0,0,1,0,1.003,-1,0,0,0],\n",
        "              [0,0,-1.01,1,0,-1.02,0,0,0,0,1.003,-1,0,0],\n",
        "              [0,0,0,-1.01,1,0,-1.02,0,0,0,0,1.003,-1,0],\n",
        "              [0,0,0,0,-1.01,0,0,-1.02,0,0,0,0,1.003,-1]])\n",
        "b2 = np.array([150,100,-200,200,-50,-300])\n",
        "\n",
        "D=np.array([[1,1,1,1,1,0,0,0,0,0,0,0,0,0]])\n",
        "d=np.array([100])\n",
        "\n",
        "\n",
        "# Bounds on decision variables\n",
        "bounds = [(0,100),\n",
        "          (0,100),\n",
        "          (0,100),\n",
        "          (0,100),\n",
        "          (0,100),\n",
        "          (0,None),\n",
        "          (0,None),\n",
        "          (0,None),\n",
        "          (0,None),\n",
        "          (0,None),\n",
        "          (0,None),\n",
        "          (0,None),\n",
        "          (0,None),\n",
        "          (0,None)]\n",
        "\n",
        "# Solve the problem:\n",
        "solution = linprog(-c2, A_eq=A2, b_eq=b2,A_ub=D,b_ub=d,bounds=bounds, method='revised simplex')\n",
        "\n",
        "solution.x"
      ],
      "metadata": {
        "colab": {
          "base_uri": "https://localhost:8080/"
        },
        "id": "I4jHUFm5gCPj",
        "outputId": "974d8ca1-db57-4295-8c11-3546bc9c8fdd"
      },
      "execution_count": null,
      "outputs": [
        {
          "output_type": "stream",
          "name": "stderr",
          "text": [
            "<ipython-input-29-5d7eb9984dbc>:36: DeprecationWarning: `method='revised simplex'` is deprecated and will be removed in SciPy 1.11.0. Please use one of the HiGHS solvers (e.g. `method='highs'`) in new code.\n",
            "  solution = linprog(-c2, A_eq=A2, b_eq=b2,A_ub=D,b_ub=d,bounds=bounds, method='revised simplex')\n"
          ]
        },
        {
          "output_type": "execute_result",
          "data": {
            "text/plain": [
              "array([  0.        ,  50.98039216,   0.        ,   0.        ,\n",
              "         0.        , 150.        ,  49.01960784, 203.43436358,\n",
              "         0.        ,   0.        , 351.9441675 ,   0.        ,\n",
              "         0.        ,  92.49694915])"
            ]
          },
          "metadata": {},
          "execution_count": 29
        }
      ]
    },
    {
      "cell_type": "code",
      "source": [
        "#Con cvx\n",
        "#Número de variables\n",
        "n=14\n",
        "x = cp.Variable(n)\n",
        "objective=cp.Minimize(-c2@x)\n",
        "#Restricciones\n",
        "constraints = [A2@x==b2,x>=0,x[0:5]<=100]\n",
        "#Planteamiento del problema\n",
        "prob=cp.Problem(objective,constraints)\n",
        "#Solución, se usará el método \"highs-ipm\" para poder comparalo con el codigo de scipy\n",
        "results2=prob.solve(solver=cp.SCIPY,scipy_options={\"method\": \"highs-ipm\"})\n",
        "solution2=pd.DataFrame(x.value)\n",
        "print(round(solution2,2))\n"
      ],
      "metadata": {
        "colab": {
          "base_uri": "https://localhost:8080/"
        },
        "id": "BFPfE4k2q_b6",
        "outputId": "a1a72341-6555-455a-d35c-6f8a07e5f8f3"
      },
      "execution_count": null,
      "outputs": [
        {
          "output_type": "stream",
          "name": "stdout",
          "text": [
            "         0\n",
            "0    -0.00\n",
            "1    50.98\n",
            "2    -0.00\n",
            "3    -0.00\n",
            "4    -0.00\n",
            "5   150.00\n",
            "6    49.02\n",
            "7   203.43\n",
            "8    -0.00\n",
            "9    -0.00\n",
            "10  351.94\n",
            "11   -0.00\n",
            "12   -0.00\n",
            "13   92.50\n"
          ]
        }
      ]
    },
    {
      "cell_type": "markdown",
      "source": [
        "Se invertirá el la línea de crédito solo 50.98, de los 100 que se podían, en el segundo mes; emitirá un papel comercial en enero, febrero y marzo, de 150', 49' y 203' respectivamente. Por último, se evidencia que solo tuvo un saldo para reinvertir en marzo, con un valor de 351.94 millones. De esta manera logra maximizar su saldo en el último mes (92.50)"
      ],
      "metadata": {
        "id": "YqNjRTQTOHEY"
      }
    },
    {
      "cell_type": "markdown",
      "source": [
        "##Punto 4"
      ],
      "metadata": {
        "id": "gU7k11xADllW"
      }
    },
    {
      "cell_type": "markdown",
      "source": [
        "La empresa XYZ desea encontrar el saldo óptimo que debe mantener en su cuenta\n",
        "bancaria en un horizonte de un mes buscando maximizar su rentabilidad total. Se sabe\n",
        "que la empresa espera recibir entradas de efectivo de:\n",
        "\n",
        "500 en la primera semana, 3300\n",
        "en la segunda semana, 200 en la tercera semana y 400 en la cuarta semana. Todas las\n",
        "cifras se encuentran en millones de pesos. Además, la empresa debe realizar los\n",
        "siguientes pagos durante el mes: 3350 en la primera semana, 400 en la segunda\n",
        "semana, 250 en la tercera semana y 200 en la cuarta semana y, para ello, debe\n",
        "mantener un saldo suficiente que respalde estas obligaciones.\n",
        "\n",
        "Para aprovechar la rentabilidad que ofrecen los saldos en cada momento, la empresa\n",
        "puede invertir sus recursos en un instrumento a corto plazo en el que recibe un\n",
        "rendimiento del 0,02% por día, pero al realizar esta operación debe incurrir en un costo de\n",
        "transacción del 0,01% del monto transferido."
      ],
      "metadata": {
        "id": "DTw4Up4evTQr"
      }
    },
    {
      "cell_type": "code",
      "source": [
        "tabla_punto_4 = pd.DataFrame({' ' : ['Entradas', 'Salidas', 'Saldos'],\n",
        "        '1' : [500, 350, 150],\n",
        "        '2' : [300, 400, -100],\n",
        "        '3' : [200,250,-50],\n",
        "        '4' : [400,200,200]})\n",
        "tabla_punto_4"
      ],
      "metadata": {
        "id": "sL6-zGxcDsvA",
        "colab": {
          "base_uri": "https://localhost:8080/",
          "height": 143
        },
        "outputId": "bf2cc814-6896-4862-ad65-ba2f25e79e0f"
      },
      "execution_count": null,
      "outputs": [
        {
          "output_type": "execute_result",
          "data": {
            "text/plain": [
              "               1    2    3    4\n",
              "0  Entradas  500  300  200  400\n",
              "1   Salidas  350  400  250  200\n",
              "2    Saldos  150 -100  -50  200"
            ],
            "text/html": [
              "\n",
              "  <div id=\"df-367c1ee9-681c-4acb-9006-910027f3f1fb\">\n",
              "    <div class=\"colab-df-container\">\n",
              "      <div>\n",
              "<style scoped>\n",
              "    .dataframe tbody tr th:only-of-type {\n",
              "        vertical-align: middle;\n",
              "    }\n",
              "\n",
              "    .dataframe tbody tr th {\n",
              "        vertical-align: top;\n",
              "    }\n",
              "\n",
              "    .dataframe thead th {\n",
              "        text-align: right;\n",
              "    }\n",
              "</style>\n",
              "<table border=\"1\" class=\"dataframe\">\n",
              "  <thead>\n",
              "    <tr style=\"text-align: right;\">\n",
              "      <th></th>\n",
              "      <th></th>\n",
              "      <th>1</th>\n",
              "      <th>2</th>\n",
              "      <th>3</th>\n",
              "      <th>4</th>\n",
              "    </tr>\n",
              "  </thead>\n",
              "  <tbody>\n",
              "    <tr>\n",
              "      <th>0</th>\n",
              "      <td>Entradas</td>\n",
              "      <td>500</td>\n",
              "      <td>300</td>\n",
              "      <td>200</td>\n",
              "      <td>400</td>\n",
              "    </tr>\n",
              "    <tr>\n",
              "      <th>1</th>\n",
              "      <td>Salidas</td>\n",
              "      <td>350</td>\n",
              "      <td>400</td>\n",
              "      <td>250</td>\n",
              "      <td>200</td>\n",
              "    </tr>\n",
              "    <tr>\n",
              "      <th>2</th>\n",
              "      <td>Saldos</td>\n",
              "      <td>150</td>\n",
              "      <td>-100</td>\n",
              "      <td>-50</td>\n",
              "      <td>200</td>\n",
              "    </tr>\n",
              "  </tbody>\n",
              "</table>\n",
              "</div>\n",
              "      <button class=\"colab-df-convert\" onclick=\"convertToInteractive('df-367c1ee9-681c-4acb-9006-910027f3f1fb')\"\n",
              "              title=\"Convert this dataframe to an interactive table.\"\n",
              "              style=\"display:none;\">\n",
              "        \n",
              "  <svg xmlns=\"http://www.w3.org/2000/svg\" height=\"24px\"viewBox=\"0 0 24 24\"\n",
              "       width=\"24px\">\n",
              "    <path d=\"M0 0h24v24H0V0z\" fill=\"none\"/>\n",
              "    <path d=\"M18.56 5.44l.94 2.06.94-2.06 2.06-.94-2.06-.94-.94-2.06-.94 2.06-2.06.94zm-11 1L8.5 8.5l.94-2.06 2.06-.94-2.06-.94L8.5 2.5l-.94 2.06-2.06.94zm10 10l.94 2.06.94-2.06 2.06-.94-2.06-.94-.94-2.06-.94 2.06-2.06.94z\"/><path d=\"M17.41 7.96l-1.37-1.37c-.4-.4-.92-.59-1.43-.59-.52 0-1.04.2-1.43.59L10.3 9.45l-7.72 7.72c-.78.78-.78 2.05 0 2.83L4 21.41c.39.39.9.59 1.41.59.51 0 1.02-.2 1.41-.59l7.78-7.78 2.81-2.81c.8-.78.8-2.07 0-2.86zM5.41 20L4 18.59l7.72-7.72 1.47 1.35L5.41 20z\"/>\n",
              "  </svg>\n",
              "      </button>\n",
              "      \n",
              "  <style>\n",
              "    .colab-df-container {\n",
              "      display:flex;\n",
              "      flex-wrap:wrap;\n",
              "      gap: 12px;\n",
              "    }\n",
              "\n",
              "    .colab-df-convert {\n",
              "      background-color: #E8F0FE;\n",
              "      border: none;\n",
              "      border-radius: 50%;\n",
              "      cursor: pointer;\n",
              "      display: none;\n",
              "      fill: #1967D2;\n",
              "      height: 32px;\n",
              "      padding: 0 0 0 0;\n",
              "      width: 32px;\n",
              "    }\n",
              "\n",
              "    .colab-df-convert:hover {\n",
              "      background-color: #E2EBFA;\n",
              "      box-shadow: 0px 1px 2px rgba(60, 64, 67, 0.3), 0px 1px 3px 1px rgba(60, 64, 67, 0.15);\n",
              "      fill: #174EA6;\n",
              "    }\n",
              "\n",
              "    [theme=dark] .colab-df-convert {\n",
              "      background-color: #3B4455;\n",
              "      fill: #D2E3FC;\n",
              "    }\n",
              "\n",
              "    [theme=dark] .colab-df-convert:hover {\n",
              "      background-color: #434B5C;\n",
              "      box-shadow: 0px 1px 3px 1px rgba(0, 0, 0, 0.15);\n",
              "      filter: drop-shadow(0px 1px 2px rgba(0, 0, 0, 0.3));\n",
              "      fill: #FFFFFF;\n",
              "    }\n",
              "  </style>\n",
              "\n",
              "      <script>\n",
              "        const buttonEl =\n",
              "          document.querySelector('#df-367c1ee9-681c-4acb-9006-910027f3f1fb button.colab-df-convert');\n",
              "        buttonEl.style.display =\n",
              "          google.colab.kernel.accessAllowed ? 'block' : 'none';\n",
              "\n",
              "        async function convertToInteractive(key) {\n",
              "          const element = document.querySelector('#df-367c1ee9-681c-4acb-9006-910027f3f1fb');\n",
              "          const dataTable =\n",
              "            await google.colab.kernel.invokeFunction('convertToInteractive',\n",
              "                                                     [key], {});\n",
              "          if (!dataTable) return;\n",
              "\n",
              "          const docLinkHtml = 'Like what you see? Visit the ' +\n",
              "            '<a target=\"_blank\" href=https://colab.research.google.com/notebooks/data_table.ipynb>data table notebook</a>'\n",
              "            + ' to learn more about interactive tables.';\n",
              "          element.innerHTML = '';\n",
              "          dataTable['output_type'] = 'display_data';\n",
              "          await google.colab.output.renderOutput(dataTable, element);\n",
              "          const docLink = document.createElement('div');\n",
              "          docLink.innerHTML = docLinkHtml;\n",
              "          element.appendChild(docLink);\n",
              "        }\n",
              "      </script>\n",
              "    </div>\n",
              "  </div>\n",
              "  "
            ]
          },
          "metadata": {},
          "execution_count": 2
        }
      ]
    },
    {
      "cell_type": "code",
      "source": [
        "rate=(1+0.0001)**7\n",
        "\n",
        "# Matriz C\n",
        "c4 = np.array([0,0,0,0,0,0,0,1])\n",
        "\n",
        "# Restricciones de igualdad\n",
        "A4 = np.array([[1,0,0,0,-1,0,0,0],\n",
        "              [0,1,0,0,rate,-1,0,0],\n",
        "              [0,0,1,0,0,rate,-1,0],\n",
        "              [0,0,0,1,0,0,rate,-1]])\n",
        "\n",
        "\n",
        "b4 = np.array([-150,100,50,-200])\n",
        "\n",
        "\n",
        "# Solve the problem:\n",
        "solution = linprog(-c4, A_ub=A4, b_ub=b4,method='simplex')\n",
        "\n",
        "solution.x"
      ],
      "metadata": {
        "colab": {
          "base_uri": "https://localhost:8080/"
        },
        "id": "rXbpui5Nr-8b",
        "outputId": "44f0c63e-0295-4e62-a3ae-9c7570541793"
      },
      "execution_count": null,
      "outputs": [
        {
          "output_type": "stream",
          "name": "stderr",
          "text": [
            "<ipython-input-3-3e57f138ddf3>:17: DeprecationWarning: `method='simplex'` is deprecated and will be removed in SciPy 1.11.0. Please use one of the HiGHS solvers (e.g. `method='highs'`) in new code.\n",
            "  solution = linprog(-c4, A_ub=A4, b_ub=b4,method='simplex')\n"
          ]
        },
        {
          "output_type": "execute_result",
          "data": {
            "text/plain": [
              "array([0.00000000e+00, 0.00000000e+00, 0.00000000e+00, 0.00000000e+00,\n",
              "       1.50000000e+02, 5.01050315e+01, 1.40115551e-01, 2.00140214e+02])"
            ]
          },
          "metadata": {},
          "execution_count": 3
        }
      ]
    },
    {
      "cell_type": "markdown",
      "source": [
        "Como se evidencia, en el último slado se obtiene una rentabilidad de 0.14, pues el saldo para esta semana es de 200.14"
      ],
      "metadata": {
        "id": "xhUKNi51Fq3b"
      }
    },
    {
      "cell_type": "markdown",
      "source": [
        "##Punto 5"
      ],
      "metadata": {
        "id": "WyNZ4mfdDyey"
      }
    },
    {
      "cell_type": "markdown",
      "source": [
        "Función a maximizar: \n",
        "\n",
        "max es mi función a maximizar\n",
        "\n",
        "$$ 5x_1+8x_2+10x_3=max$$\n",
        "$$ x_1+x_2+x_3 = 10000 $$\n",
        "$$ x_1>=$2000$$\n",
        "$$ y_2>=300h$$\n",
        "$$ y_3>=250h$$\n",
        "$$ y_1+y_2+y_3=1000$$\n",
        "\n",
        "\n",
        "\n",
        "\n"
      ],
      "metadata": {
        "id": "aFyD_NOWEPin"
      }
    },
    {
      "cell_type": "code",
      "source": [
        "c5 = np.array([5,8,10,0,0,0])\n",
        "\n",
        "A5 = np.array([[1,1,1,0,0,0],\n",
        "               [0,0,0,1,1,1]])\n",
        "b5 = np.array([10000,1000])\n",
        "\n",
        "# Bounds on decision variables\n",
        "bounds = [(2000,None),\n",
        "          (2000,None),\n",
        "          (0,None),\n",
        "          (0,None),\n",
        "          (300,None),\n",
        "          (250,None)]\n",
        "\n",
        "# Solve the problem:\n",
        "solution = linprog(-c5, A_eq=A5, b_eq=b5,bounds=bounds, method='simplex')\n",
        "\n",
        "solution"
      ],
      "metadata": {
        "id": "EZmTEb8DD1Fv",
        "colab": {
          "base_uri": "https://localhost:8080/"
        },
        "outputId": "20ba9821-0830-4016-db1a-b744c74db936"
      },
      "execution_count": null,
      "outputs": [
        {
          "output_type": "stream",
          "name": "stderr",
          "text": [
            "<ipython-input-9-7909b251ea35>:16: DeprecationWarning: `method='simplex'` is deprecated and will be removed in SciPy 1.11.0. Please use one of the HiGHS solvers (e.g. `method='highs'`) in new code.\n",
            "  solution = linprog(-c5, A_eq=A5, b_eq=b5,bounds=bounds, method='simplex')\n"
          ]
        },
        {
          "output_type": "execute_result",
          "data": {
            "text/plain": [
              " message: Optimization terminated successfully.\n",
              " success: True\n",
              "  status: 0\n",
              "     fun: -86000.0\n",
              "       x: [ 2.000e+03  2.000e+03  6.000e+03  4.500e+02  3.000e+02\n",
              "            2.500e+02]\n",
              "     nit: 3"
            ]
          },
          "metadata": {},
          "execution_count": 9
        }
      ]
    },
    {
      "cell_type": "code",
      "source": [
        "#Con cvx\n",
        "#Número de variables\n",
        "n=6\n",
        "x = cp.Variable(n)\n",
        "objective=cp.Minimize(-c5@x)\n",
        "#Restricciones\n",
        "constraints = [A5@x==b5,x>=0,x[0:2]>=2000,x[1:4]>=0,x[4]>=300,x[5]>=250]\n",
        "#Planteamiento del problema\n",
        "prob=cp.Problem(objective,constraints)\n",
        "#Solución\n",
        "results5=prob.solve(solver=cp.SCIPY,scipy_options={\"method\": \"highs-ipm\"})\n",
        "solution5=pd.DataFrame(x.value)\n",
        "print(round(solution5,2))\n",
        "#Resolver revisando que el optimizador sea igual a Scipy "
      ],
      "metadata": {
        "colab": {
          "base_uri": "https://localhost:8080/"
        },
        "id": "Nky08ualYcEt",
        "outputId": "bc601a95-f9de-4a80-a22f-33e98d3fb261"
      },
      "execution_count": null,
      "outputs": [
        {
          "output_type": "stream",
          "name": "stdout",
          "text": [
            "        0\n",
            "0  2000.0\n",
            "1  2000.0\n",
            "2  6000.0\n",
            "3   450.0\n",
            "4   300.0\n",
            "5   250.0\n"
          ]
        }
      ]
    },
    {
      "cell_type": "markdown",
      "source": [
        "Los presupuestos que se deben asignar a cada sector es de 2000 para ventas, 2000 para marketing y finalmente 6000 para producción. Cabe recalcar que la retricción del departamento de marketing viene dada por el supuesto en el que, como se obtiene mayor ganancia por unidad invertida, el presupuesto que se le asigna debería ser mayor o igual al mínimo de ventas.\n",
        "De igual manera, se debe invertir 450 horas en ventas, 300 horas en marketing y 250 horas en producción.\n",
        "Mi ganancia máxima es de 86000"
      ],
      "metadata": {
        "id": "qVu3VdmwP-ov"
      }
    },
    {
      "cell_type": "markdown",
      "source": [
        "##Punto 6\n"
      ],
      "metadata": {
        "id": "YqKK04q_eDmj"
      }
    },
    {
      "cell_type": "code",
      "source": [
        "tabla_punto_6=pd.DataFrame({\"Puntos\":[1,2,3,4,5],\"Demanda\":[80,270,250,160,180]})\n",
        "tabla_punto_6.T"
      ],
      "metadata": {
        "colab": {
          "base_uri": "https://localhost:8080/",
          "height": 112
        },
        "id": "GtQKKYTrPHE_",
        "outputId": "1c54b299-e8a0-4213-c965-687e92886ac5"
      },
      "execution_count": null,
      "outputs": [
        {
          "output_type": "execute_result",
          "data": {
            "text/plain": [
              "          0    1    2    3    4\n",
              "Puntos    1    2    3    4    5\n",
              "Demanda  80  270  250  160  180"
            ],
            "text/html": [
              "\n",
              "  <div id=\"df-c5f47070-2c8b-4acf-82e7-a8d42383ae13\">\n",
              "    <div class=\"colab-df-container\">\n",
              "      <div>\n",
              "<style scoped>\n",
              "    .dataframe tbody tr th:only-of-type {\n",
              "        vertical-align: middle;\n",
              "    }\n",
              "\n",
              "    .dataframe tbody tr th {\n",
              "        vertical-align: top;\n",
              "    }\n",
              "\n",
              "    .dataframe thead th {\n",
              "        text-align: right;\n",
              "    }\n",
              "</style>\n",
              "<table border=\"1\" class=\"dataframe\">\n",
              "  <thead>\n",
              "    <tr style=\"text-align: right;\">\n",
              "      <th></th>\n",
              "      <th>0</th>\n",
              "      <th>1</th>\n",
              "      <th>2</th>\n",
              "      <th>3</th>\n",
              "      <th>4</th>\n",
              "    </tr>\n",
              "  </thead>\n",
              "  <tbody>\n",
              "    <tr>\n",
              "      <th>Puntos</th>\n",
              "      <td>1</td>\n",
              "      <td>2</td>\n",
              "      <td>3</td>\n",
              "      <td>4</td>\n",
              "      <td>5</td>\n",
              "    </tr>\n",
              "    <tr>\n",
              "      <th>Demanda</th>\n",
              "      <td>80</td>\n",
              "      <td>270</td>\n",
              "      <td>250</td>\n",
              "      <td>160</td>\n",
              "      <td>180</td>\n",
              "    </tr>\n",
              "  </tbody>\n",
              "</table>\n",
              "</div>\n",
              "      <button class=\"colab-df-convert\" onclick=\"convertToInteractive('df-c5f47070-2c8b-4acf-82e7-a8d42383ae13')\"\n",
              "              title=\"Convert this dataframe to an interactive table.\"\n",
              "              style=\"display:none;\">\n",
              "        \n",
              "  <svg xmlns=\"http://www.w3.org/2000/svg\" height=\"24px\"viewBox=\"0 0 24 24\"\n",
              "       width=\"24px\">\n",
              "    <path d=\"M0 0h24v24H0V0z\" fill=\"none\"/>\n",
              "    <path d=\"M18.56 5.44l.94 2.06.94-2.06 2.06-.94-2.06-.94-.94-2.06-.94 2.06-2.06.94zm-11 1L8.5 8.5l.94-2.06 2.06-.94-2.06-.94L8.5 2.5l-.94 2.06-2.06.94zm10 10l.94 2.06.94-2.06 2.06-.94-2.06-.94-.94-2.06-.94 2.06-2.06.94z\"/><path d=\"M17.41 7.96l-1.37-1.37c-.4-.4-.92-.59-1.43-.59-.52 0-1.04.2-1.43.59L10.3 9.45l-7.72 7.72c-.78.78-.78 2.05 0 2.83L4 21.41c.39.39.9.59 1.41.59.51 0 1.02-.2 1.41-.59l7.78-7.78 2.81-2.81c.8-.78.8-2.07 0-2.86zM5.41 20L4 18.59l7.72-7.72 1.47 1.35L5.41 20z\"/>\n",
              "  </svg>\n",
              "      </button>\n",
              "      \n",
              "  <style>\n",
              "    .colab-df-container {\n",
              "      display:flex;\n",
              "      flex-wrap:wrap;\n",
              "      gap: 12px;\n",
              "    }\n",
              "\n",
              "    .colab-df-convert {\n",
              "      background-color: #E8F0FE;\n",
              "      border: none;\n",
              "      border-radius: 50%;\n",
              "      cursor: pointer;\n",
              "      display: none;\n",
              "      fill: #1967D2;\n",
              "      height: 32px;\n",
              "      padding: 0 0 0 0;\n",
              "      width: 32px;\n",
              "    }\n",
              "\n",
              "    .colab-df-convert:hover {\n",
              "      background-color: #E2EBFA;\n",
              "      box-shadow: 0px 1px 2px rgba(60, 64, 67, 0.3), 0px 1px 3px 1px rgba(60, 64, 67, 0.15);\n",
              "      fill: #174EA6;\n",
              "    }\n",
              "\n",
              "    [theme=dark] .colab-df-convert {\n",
              "      background-color: #3B4455;\n",
              "      fill: #D2E3FC;\n",
              "    }\n",
              "\n",
              "    [theme=dark] .colab-df-convert:hover {\n",
              "      background-color: #434B5C;\n",
              "      box-shadow: 0px 1px 3px 1px rgba(0, 0, 0, 0.15);\n",
              "      filter: drop-shadow(0px 1px 2px rgba(0, 0, 0, 0.3));\n",
              "      fill: #FFFFFF;\n",
              "    }\n",
              "  </style>\n",
              "\n",
              "      <script>\n",
              "        const buttonEl =\n",
              "          document.querySelector('#df-c5f47070-2c8b-4acf-82e7-a8d42383ae13 button.colab-df-convert');\n",
              "        buttonEl.style.display =\n",
              "          google.colab.kernel.accessAllowed ? 'block' : 'none';\n",
              "\n",
              "        async function convertToInteractive(key) {\n",
              "          const element = document.querySelector('#df-c5f47070-2c8b-4acf-82e7-a8d42383ae13');\n",
              "          const dataTable =\n",
              "            await google.colab.kernel.invokeFunction('convertToInteractive',\n",
              "                                                     [key], {});\n",
              "          if (!dataTable) return;\n",
              "\n",
              "          const docLinkHtml = 'Like what you see? Visit the ' +\n",
              "            '<a target=\"_blank\" href=https://colab.research.google.com/notebooks/data_table.ipynb>data table notebook</a>'\n",
              "            + ' to learn more about interactive tables.';\n",
              "          element.innerHTML = '';\n",
              "          dataTable['output_type'] = 'display_data';\n",
              "          await google.colab.output.renderOutput(dataTable, element);\n",
              "          const docLink = document.createElement('div');\n",
              "          docLink.innerHTML = docLinkHtml;\n",
              "          element.appendChild(docLink);\n",
              "        }\n",
              "      </script>\n",
              "    </div>\n",
              "  </div>\n",
              "  "
            ]
          },
          "metadata": {},
          "execution_count": 19
        }
      ]
    },
    {
      "cell_type": "code",
      "source": [
        "tabla_punto_6_2=pd.DataFrame({\"1\":[\"$4\",\"$6\",\"$9\"],\"2\":[\"$5\",\"$4\",\"$7\"],\"3\":[\"$6\",\"$3\",\"$4\"],\n",
        "                              \"4\":[\"$8\",\"$5\",\"$3\"],\"5\":[\"$10\",\"$8\",\"$4\"],\"Fj\":[\"$1000\",\"$1000\",\"$1000\"],\n",
        "                              \"Mj\":[\"500\",\"500\",\"500\"]})\n",
        "tabla_punto_6_2.index=(\"1\",\"2\",\"3\")\n",
        "tabla_punto_6_2"
      ],
      "metadata": {
        "colab": {
          "base_uri": "https://localhost:8080/",
          "height": 143
        },
        "id": "Vki_iiwPccQs",
        "outputId": "2e874e4c-67ef-4897-d3ce-a3de7b97aa5f"
      },
      "execution_count": null,
      "outputs": [
        {
          "output_type": "execute_result",
          "data": {
            "text/plain": [
              "    1   2   3   4    5     Fj   Mj\n",
              "1  $4  $5  $6  $8  $10  $1000  500\n",
              "2  $6  $4  $3  $5   $8  $1000  500\n",
              "3  $9  $7  $4  $3   $4  $1000  500"
            ],
            "text/html": [
              "\n",
              "  <div id=\"df-b70ce99c-a37f-42a0-8465-1117230e66c5\">\n",
              "    <div class=\"colab-df-container\">\n",
              "      <div>\n",
              "<style scoped>\n",
              "    .dataframe tbody tr th:only-of-type {\n",
              "        vertical-align: middle;\n",
              "    }\n",
              "\n",
              "    .dataframe tbody tr th {\n",
              "        vertical-align: top;\n",
              "    }\n",
              "\n",
              "    .dataframe thead th {\n",
              "        text-align: right;\n",
              "    }\n",
              "</style>\n",
              "<table border=\"1\" class=\"dataframe\">\n",
              "  <thead>\n",
              "    <tr style=\"text-align: right;\">\n",
              "      <th></th>\n",
              "      <th>1</th>\n",
              "      <th>2</th>\n",
              "      <th>3</th>\n",
              "      <th>4</th>\n",
              "      <th>5</th>\n",
              "      <th>Fj</th>\n",
              "      <th>Mj</th>\n",
              "    </tr>\n",
              "  </thead>\n",
              "  <tbody>\n",
              "    <tr>\n",
              "      <th>1</th>\n",
              "      <td>$4</td>\n",
              "      <td>$5</td>\n",
              "      <td>$6</td>\n",
              "      <td>$8</td>\n",
              "      <td>$10</td>\n",
              "      <td>$1000</td>\n",
              "      <td>500</td>\n",
              "    </tr>\n",
              "    <tr>\n",
              "      <th>2</th>\n",
              "      <td>$6</td>\n",
              "      <td>$4</td>\n",
              "      <td>$3</td>\n",
              "      <td>$5</td>\n",
              "      <td>$8</td>\n",
              "      <td>$1000</td>\n",
              "      <td>500</td>\n",
              "    </tr>\n",
              "    <tr>\n",
              "      <th>3</th>\n",
              "      <td>$9</td>\n",
              "      <td>$7</td>\n",
              "      <td>$4</td>\n",
              "      <td>$3</td>\n",
              "      <td>$4</td>\n",
              "      <td>$1000</td>\n",
              "      <td>500</td>\n",
              "    </tr>\n",
              "  </tbody>\n",
              "</table>\n",
              "</div>\n",
              "      <button class=\"colab-df-convert\" onclick=\"convertToInteractive('df-b70ce99c-a37f-42a0-8465-1117230e66c5')\"\n",
              "              title=\"Convert this dataframe to an interactive table.\"\n",
              "              style=\"display:none;\">\n",
              "        \n",
              "  <svg xmlns=\"http://www.w3.org/2000/svg\" height=\"24px\"viewBox=\"0 0 24 24\"\n",
              "       width=\"24px\">\n",
              "    <path d=\"M0 0h24v24H0V0z\" fill=\"none\"/>\n",
              "    <path d=\"M18.56 5.44l.94 2.06.94-2.06 2.06-.94-2.06-.94-.94-2.06-.94 2.06-2.06.94zm-11 1L8.5 8.5l.94-2.06 2.06-.94-2.06-.94L8.5 2.5l-.94 2.06-2.06.94zm10 10l.94 2.06.94-2.06 2.06-.94-2.06-.94-.94-2.06-.94 2.06-2.06.94z\"/><path d=\"M17.41 7.96l-1.37-1.37c-.4-.4-.92-.59-1.43-.59-.52 0-1.04.2-1.43.59L10.3 9.45l-7.72 7.72c-.78.78-.78 2.05 0 2.83L4 21.41c.39.39.9.59 1.41.59.51 0 1.02-.2 1.41-.59l7.78-7.78 2.81-2.81c.8-.78.8-2.07 0-2.86zM5.41 20L4 18.59l7.72-7.72 1.47 1.35L5.41 20z\"/>\n",
              "  </svg>\n",
              "      </button>\n",
              "      \n",
              "  <style>\n",
              "    .colab-df-container {\n",
              "      display:flex;\n",
              "      flex-wrap:wrap;\n",
              "      gap: 12px;\n",
              "    }\n",
              "\n",
              "    .colab-df-convert {\n",
              "      background-color: #E8F0FE;\n",
              "      border: none;\n",
              "      border-radius: 50%;\n",
              "      cursor: pointer;\n",
              "      display: none;\n",
              "      fill: #1967D2;\n",
              "      height: 32px;\n",
              "      padding: 0 0 0 0;\n",
              "      width: 32px;\n",
              "    }\n",
              "\n",
              "    .colab-df-convert:hover {\n",
              "      background-color: #E2EBFA;\n",
              "      box-shadow: 0px 1px 2px rgba(60, 64, 67, 0.3), 0px 1px 3px 1px rgba(60, 64, 67, 0.15);\n",
              "      fill: #174EA6;\n",
              "    }\n",
              "\n",
              "    [theme=dark] .colab-df-convert {\n",
              "      background-color: #3B4455;\n",
              "      fill: #D2E3FC;\n",
              "    }\n",
              "\n",
              "    [theme=dark] .colab-df-convert:hover {\n",
              "      background-color: #434B5C;\n",
              "      box-shadow: 0px 1px 3px 1px rgba(0, 0, 0, 0.15);\n",
              "      filter: drop-shadow(0px 1px 2px rgba(0, 0, 0, 0.3));\n",
              "      fill: #FFFFFF;\n",
              "    }\n",
              "  </style>\n",
              "\n",
              "      <script>\n",
              "        const buttonEl =\n",
              "          document.querySelector('#df-b70ce99c-a37f-42a0-8465-1117230e66c5 button.colab-df-convert');\n",
              "        buttonEl.style.display =\n",
              "          google.colab.kernel.accessAllowed ? 'block' : 'none';\n",
              "\n",
              "        async function convertToInteractive(key) {\n",
              "          const element = document.querySelector('#df-b70ce99c-a37f-42a0-8465-1117230e66c5');\n",
              "          const dataTable =\n",
              "            await google.colab.kernel.invokeFunction('convertToInteractive',\n",
              "                                                     [key], {});\n",
              "          if (!dataTable) return;\n",
              "\n",
              "          const docLinkHtml = 'Like what you see? Visit the ' +\n",
              "            '<a target=\"_blank\" href=https://colab.research.google.com/notebooks/data_table.ipynb>data table notebook</a>'\n",
              "            + ' to learn more about interactive tables.';\n",
              "          element.innerHTML = '';\n",
              "          dataTable['output_type'] = 'display_data';\n",
              "          await google.colab.output.renderOutput(dataTable, element);\n",
              "          const docLink = document.createElement('div');\n",
              "          docLink.innerHTML = docLinkHtml;\n",
              "          element.appendChild(docLink);\n",
              "        }\n",
              "      </script>\n",
              "    </div>\n",
              "  </div>\n",
              "  "
            ]
          },
          "metadata": {},
          "execution_count": 27
        }
      ]
    },
    {
      "cell_type": "markdown",
      "source": [
        "Restricciones\n",
        "$$ 4x_1+5x_2+6x_3+8x_4+10x_5>=1000$$\n",
        "$$ 6y_1+4y_2+3y_3+5y_4+8y_5>=1000$$\n",
        "$$ 9z_1+7z_2+4z_3+3z_4+4z_5>=1000$$\n",
        "$$x_1+x_2+x_3+x_4+x_5<=500$$\n",
        "$$y_1+y_2+y_3+y_4+y_5<=500$$\n",
        "$$z_1+z_2+z_3+z_4+z_5<=500$$\n",
        "Demanda para las plantas \n",
        "$$80+270+250+160+180=940$$\n",
        "Lo anterior significa que solo necesito dos plantas para satisfacer la demanda de los puntos, razón por la cual, la planta que tenga costos más altos permanecerá cerrada. \n",
        "Para esto se definirá una función de linprog poniendo los tres posibles casos, donde la planta 1 o la planta 2 o la planta 3 estén cerradas.\n",
        "\n",
        "$$x_1 +y_1+z_1>=80$$\n",
        "$$x_2 +y_2+z_2>=270$$\n",
        "$$x_3 +y_3+z_3>=250$$\n",
        "$$x_4+y_4+z_4>=160$$\n",
        "$$x_5 +y_5+z_5>=180$$"
      ],
      "metadata": {
        "id": "dlOklUDcWoDC"
      }
    },
    {
      "cell_type": "code",
      "source": [
        "c6=np.array([4,5,6,8,10,6,4,3,5,8,9,7,4,3,4])\n",
        "\n",
        "A6=np.array([[-4,-5,-6,-8,-10,0,0,0,0,0,0,0,0,0,0],\n",
        "             [0,0,0,0,0,-6,-4,-3,-5,-8,0,0,0,0,0],\n",
        "             [0,0,0,0,0,0,0,0,0,0,-9,-7,-4,-3,-4],\n",
        "             [1,1,1,1,1,0,0,0,0,0,0,0,0,0,0],\n",
        "             [0,0,0,0,0,1,1,1,1,1,0,0,0,0,0],\n",
        "             [0,0,0,0,0,0,0,0,0,0,1,1,1,1,1],\n",
        "             [-1,0,0,0,0,-1,0,0,0,0,-1,0,0,0,0],\n",
        "             [0,-1,0,0,0,0,-1,0,0,0,0,-1,0,0,0],\n",
        "             [0,0,-1,0,0,0,0,-1,0,0,0,0,-1,0,0],\n",
        "             [0,0,0,-1,0,0,0,0,-1,0,0,0,0,-1,0],\n",
        "             [0,0,0,0,-1,0,0,0,0,-1,0,0,0,0,-1],\n",
        "             ])\n",
        "          \n",
        "bounds=[(0,None),\n",
        "          (0,None),\n",
        "          (0,None),\n",
        "          (0,None),\n",
        "          (0,None),\n",
        "          (0,None),\n",
        "          (0,None),\n",
        "          (0,None),\n",
        "          (0,None),\n",
        "          (0,None),\n",
        "          (0,None),\n",
        "          (0,None),\n",
        "          (0,None),\n",
        "          (0,None),\n",
        "          (0,None)]\n",
        "\n",
        "def min(y):\n",
        "  solution6 =linprog(c6,A_ub=A6,b_ub=y,bounds=bounds, method='highs-ipm')\n",
        "  m=pd.DataFrame(solution6.x.reshape(3,5))\n",
        "  return(solution6.fun)\n",
        "\n",
        "min(np.array([0,-1000,-1000,0,500,500,-80,-270,-250,-160,-180]))\n"
      ],
      "metadata": {
        "colab": {
          "base_uri": "https://localhost:8080/"
        },
        "id": "xNH9xGTreDQk",
        "outputId": "0381d948-2bbf-4c29-e138-aad2a526c9a4"
      },
      "execution_count": null,
      "outputs": [
        {
          "output_type": "execute_result",
          "data": {
            "text/plain": [
              "3610.0"
            ]
          },
          "metadata": {},
          "execution_count": 38
        }
      ]
    },
    {
      "cell_type": "code",
      "source": [
        "min(np.array([-1000,0,-1000,500,0,500,-80,-270,-250,-160,-180]))"
      ],
      "metadata": {
        "colab": {
          "base_uri": "https://localhost:8080/"
        },
        "id": "BqaaVRZYe4UE",
        "outputId": "ba291add-cb3e-472a-b4d3-4e4b1ed5940e"
      },
      "execution_count": null,
      "outputs": [
        {
          "output_type": "execute_result",
          "data": {
            "text/plain": [
              "4050.0"
            ]
          },
          "metadata": {},
          "execution_count": 30
        }
      ]
    },
    {
      "cell_type": "code",
      "source": [
        "min(np.array([-1000,-1000,0,500,500,0,-80,-270,-250,-160,-180]))"
      ],
      "metadata": {
        "colab": {
          "base_uri": "https://localhost:8080/"
        },
        "id": "0-9aEdMrfA_V",
        "outputId": "da37e103-e944-4b11-c8a6-02027c4dde34"
      },
      "execution_count": null,
      "outputs": [
        {
          "output_type": "execute_result",
          "data": {
            "text/plain": [
              "4840.0"
            ]
          },
          "metadata": {},
          "execution_count": 31
        }
      ]
    },
    {
      "cell_type": "markdown",
      "source": [
        "La de menores costos es la opción uno, donde se cierra la planta 1. Cabe recalcar que al costo total falta sumarle los costos fijos del funcionamiento (Puesto que solo hay costos variables de distribución para este ejercicio), por lo que el costo total sería igual a \n",
        "$$3610 + 1000 + 1000 = 5610$$"
      ],
      "metadata": {
        "id": "VZ_lvycYfHqm"
      }
    },
    {
      "cell_type": "code",
      "source": [
        "b6=np.array([0,-1000,-1000,0,500,500,-80,-270,-250,-160,-180])\n",
        "solution =linprog(c6,A_ub=A6,b_ub=b6,bounds=bounds, method='simplex')\n",
        "m=pd.DataFrame(solution.x.reshape(3,5))\n",
        "m"
      ],
      "metadata": {
        "colab": {
          "base_uri": "https://localhost:8080/",
          "height": 199
        },
        "id": "tZPHhr7nfO3D",
        "outputId": "e5d561ef-4893-4808-d4a5-e15b9c67e4a4"
      },
      "execution_count": null,
      "outputs": [
        {
          "output_type": "stream",
          "name": "stderr",
          "text": [
            "<ipython-input-27-1883ae7bce9d>:2: DeprecationWarning: `method='simplex'` is deprecated and will be removed in SciPy 1.11.0. Please use one of the HiGHS solvers (e.g. `method='highs'`) in new code.\n",
            "  solution =linprog(c6,A_ub=A6,b_ub=b6,bounds=bounds, method='simplex')\n"
          ]
        },
        {
          "output_type": "execute_result",
          "data": {
            "text/plain": [
              "      0      1      2      3      4\n",
              "0   0.0    0.0    0.0    0.0    0.0\n",
              "1  80.0  270.0  150.0    0.0    0.0\n",
              "2   0.0    0.0  100.0  160.0  180.0"
            ],
            "text/html": [
              "\n",
              "  <div id=\"df-bc3e0524-0d86-49c7-bce7-f7fa16a17b31\">\n",
              "    <div class=\"colab-df-container\">\n",
              "      <div>\n",
              "<style scoped>\n",
              "    .dataframe tbody tr th:only-of-type {\n",
              "        vertical-align: middle;\n",
              "    }\n",
              "\n",
              "    .dataframe tbody tr th {\n",
              "        vertical-align: top;\n",
              "    }\n",
              "\n",
              "    .dataframe thead th {\n",
              "        text-align: right;\n",
              "    }\n",
              "</style>\n",
              "<table border=\"1\" class=\"dataframe\">\n",
              "  <thead>\n",
              "    <tr style=\"text-align: right;\">\n",
              "      <th></th>\n",
              "      <th>0</th>\n",
              "      <th>1</th>\n",
              "      <th>2</th>\n",
              "      <th>3</th>\n",
              "      <th>4</th>\n",
              "    </tr>\n",
              "  </thead>\n",
              "  <tbody>\n",
              "    <tr>\n",
              "      <th>0</th>\n",
              "      <td>0.0</td>\n",
              "      <td>0.0</td>\n",
              "      <td>0.0</td>\n",
              "      <td>0.0</td>\n",
              "      <td>0.0</td>\n",
              "    </tr>\n",
              "    <tr>\n",
              "      <th>1</th>\n",
              "      <td>80.0</td>\n",
              "      <td>270.0</td>\n",
              "      <td>150.0</td>\n",
              "      <td>0.0</td>\n",
              "      <td>0.0</td>\n",
              "    </tr>\n",
              "    <tr>\n",
              "      <th>2</th>\n",
              "      <td>0.0</td>\n",
              "      <td>0.0</td>\n",
              "      <td>100.0</td>\n",
              "      <td>160.0</td>\n",
              "      <td>180.0</td>\n",
              "    </tr>\n",
              "  </tbody>\n",
              "</table>\n",
              "</div>\n",
              "      <button class=\"colab-df-convert\" onclick=\"convertToInteractive('df-bc3e0524-0d86-49c7-bce7-f7fa16a17b31')\"\n",
              "              title=\"Convert this dataframe to an interactive table.\"\n",
              "              style=\"display:none;\">\n",
              "        \n",
              "  <svg xmlns=\"http://www.w3.org/2000/svg\" height=\"24px\"viewBox=\"0 0 24 24\"\n",
              "       width=\"24px\">\n",
              "    <path d=\"M0 0h24v24H0V0z\" fill=\"none\"/>\n",
              "    <path d=\"M18.56 5.44l.94 2.06.94-2.06 2.06-.94-2.06-.94-.94-2.06-.94 2.06-2.06.94zm-11 1L8.5 8.5l.94-2.06 2.06-.94-2.06-.94L8.5 2.5l-.94 2.06-2.06.94zm10 10l.94 2.06.94-2.06 2.06-.94-2.06-.94-.94-2.06-.94 2.06-2.06.94z\"/><path d=\"M17.41 7.96l-1.37-1.37c-.4-.4-.92-.59-1.43-.59-.52 0-1.04.2-1.43.59L10.3 9.45l-7.72 7.72c-.78.78-.78 2.05 0 2.83L4 21.41c.39.39.9.59 1.41.59.51 0 1.02-.2 1.41-.59l7.78-7.78 2.81-2.81c.8-.78.8-2.07 0-2.86zM5.41 20L4 18.59l7.72-7.72 1.47 1.35L5.41 20z\"/>\n",
              "  </svg>\n",
              "      </button>\n",
              "      \n",
              "  <style>\n",
              "    .colab-df-container {\n",
              "      display:flex;\n",
              "      flex-wrap:wrap;\n",
              "      gap: 12px;\n",
              "    }\n",
              "\n",
              "    .colab-df-convert {\n",
              "      background-color: #E8F0FE;\n",
              "      border: none;\n",
              "      border-radius: 50%;\n",
              "      cursor: pointer;\n",
              "      display: none;\n",
              "      fill: #1967D2;\n",
              "      height: 32px;\n",
              "      padding: 0 0 0 0;\n",
              "      width: 32px;\n",
              "    }\n",
              "\n",
              "    .colab-df-convert:hover {\n",
              "      background-color: #E2EBFA;\n",
              "      box-shadow: 0px 1px 2px rgba(60, 64, 67, 0.3), 0px 1px 3px 1px rgba(60, 64, 67, 0.15);\n",
              "      fill: #174EA6;\n",
              "    }\n",
              "\n",
              "    [theme=dark] .colab-df-convert {\n",
              "      background-color: #3B4455;\n",
              "      fill: #D2E3FC;\n",
              "    }\n",
              "\n",
              "    [theme=dark] .colab-df-convert:hover {\n",
              "      background-color: #434B5C;\n",
              "      box-shadow: 0px 1px 3px 1px rgba(0, 0, 0, 0.15);\n",
              "      filter: drop-shadow(0px 1px 2px rgba(0, 0, 0, 0.3));\n",
              "      fill: #FFFFFF;\n",
              "    }\n",
              "  </style>\n",
              "\n",
              "      <script>\n",
              "        const buttonEl =\n",
              "          document.querySelector('#df-bc3e0524-0d86-49c7-bce7-f7fa16a17b31 button.colab-df-convert');\n",
              "        buttonEl.style.display =\n",
              "          google.colab.kernel.accessAllowed ? 'block' : 'none';\n",
              "\n",
              "        async function convertToInteractive(key) {\n",
              "          const element = document.querySelector('#df-bc3e0524-0d86-49c7-bce7-f7fa16a17b31');\n",
              "          const dataTable =\n",
              "            await google.colab.kernel.invokeFunction('convertToInteractive',\n",
              "                                                     [key], {});\n",
              "          if (!dataTable) return;\n",
              "\n",
              "          const docLinkHtml = 'Like what you see? Visit the ' +\n",
              "            '<a target=\"_blank\" href=https://colab.research.google.com/notebooks/data_table.ipynb>data table notebook</a>'\n",
              "            + ' to learn more about interactive tables.';\n",
              "          element.innerHTML = '';\n",
              "          dataTable['output_type'] = 'display_data';\n",
              "          await google.colab.output.renderOutput(dataTable, element);\n",
              "          const docLink = document.createElement('div');\n",
              "          docLink.innerHTML = docLinkHtml;\n",
              "          element.appendChild(docLink);\n",
              "        }\n",
              "      </script>\n",
              "    </div>\n",
              "  </div>\n",
              "  "
            ]
          },
          "metadata": {},
          "execution_count": 27
        }
      ]
    },
    {
      "cell_type": "code",
      "source": [
        "n=15\n",
        "x=cp.Variable(n)\n",
        "objective=cp.Minimize(c6@x)\n",
        "constraints=[A6@x<=b6,x>=0]\n",
        "prob=cp.Problem(objective,constraints)\n",
        "results6=prob.solve(solver=cp.SCIPY,scipy_options={\"method\": \"highs-ipm\"})\n",
        "solution6=pd.DataFrame(x.value.reshape(3,5))\n",
        "print(round(solution6,2))\n",
        "results6"
      ],
      "metadata": {
        "colab": {
          "base_uri": "https://localhost:8080/"
        },
        "id": "Qd1SXaLGv5Vg",
        "outputId": "e3482be0-260f-468d-9a8e-6c5f5ff85dfe"
      },
      "execution_count": null,
      "outputs": [
        {
          "output_type": "stream",
          "name": "stdout",
          "text": [
            "      0      1      2      3      4\n",
            "0  -0.0   -0.0   -0.0   -0.0   -0.0\n",
            "1  80.0  270.0  150.0   -0.0   -0.0\n",
            "2  -0.0   -0.0  100.0  160.0  180.0\n"
          ]
        },
        {
          "output_type": "execute_result",
          "data": {
            "text/plain": [
              "3610.0"
            ]
          },
          "metadata": {},
          "execution_count": 34
        }
      ]
    },
    {
      "cell_type": "markdown",
      "source": [
        "La minimización de los costos se da cerrando la planta 1. La planta 2 satisface la demanda de los puntos 1,2 y 60% del 3; y la planta 3 satisface la demanda de 40% del punto 3, el punto 4 y el punto 5."
      ],
      "metadata": {
        "id": "XfK6gYVDWiVL"
      }
    }
  ]
}