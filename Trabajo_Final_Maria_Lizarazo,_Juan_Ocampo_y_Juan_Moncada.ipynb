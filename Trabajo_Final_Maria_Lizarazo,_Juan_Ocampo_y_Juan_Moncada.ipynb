{
  "nbformat": 4,
  "nbformat_minor": 0,
  "metadata": {
    "colab": {
      "provenance": [],
      "include_colab_link": true
    },
    "kernelspec": {
      "name": "python3",
      "display_name": "Python 3"
    },
    "language_info": {
      "name": "python"
    }
  },
  "cells": [
    {
      "cell_type": "markdown",
      "metadata": {
        "id": "view-in-github",
        "colab_type": "text"
      },
      "source": [
        "<a href=\"https://colab.research.google.com/github/JuanOcampo29/Finanzas/blob/main/Trabajo_Final_Maria_Lizarazo%2C_Juan_Ocampo_y_Juan_Moncada.ipynb\" target=\"_parent\"><img src=\"https://colab.research.google.com/assets/colab-badge.svg\" alt=\"Open In Colab\"/></a>"
      ]
    },
    {
      "cell_type": "markdown",
      "source": [
        "### Realizado por: María Paula Lizarazo, Juan Pablo Moncada y Juan Alejandro Ocampo\n"
      ],
      "metadata": {
        "id": "xqyl9DDMBVkx"
      }
    },
    {
      "cell_type": "markdown",
      "source": [
        "#**Descripción del Problema**\n",
        "A partir de los datos obtenidos se establece que la empresa XYZ necesita \n",
        "optimizar su cadena de distribución en 5 puntos de venta (municipios) diferentes para satisfacer la demanda.\n",
        "\n",
        "En primera medida, las empresas buscan optimizar los costos para cubrir la demanda y con ello mejorar la rentabilidad por medio del ajuste de los gastos, de esta manera se evitan los sobrecostos lo cual permite mantener una producción optima y una correcta gestión de los recursos. Por otro lado, el aumento de la eficiencia operativa de la empresa logra reducir costos y aumentar la rentabilidad, siendo este el objetivo principal de la empresa, hacer de sus procesos más eficientes. Esto último estructura el problema a solucionar debido a que se busca optimizar el proceso, para reducir los costos de producción mediante las economías de escala, al igual que, buscar lugares centralizados para la producción con el fin de reducir al máximo los costos de transporte.\n",
        "\n",
        "Por otro lado, tener una producción lo más optima posible permite mejorar la competitividad de la empresa al ajustar los precios para la demanda existente, y generar liquidez para desarrollar proyectos de innovación de maquinaria y capacidad del personal para hacer más eficiente la empresa, aumentando sus posibilidades de perdurar en el tiempo. Esto último implica que la empresa podría soportar una posible crisis económica debido a que sus costos y estructura empresarial son capaces de sobrellevar una baja temporal en los ingresos.\n",
        "\n",
        "La solución del problema planteado se desarrollará desde dos puntos principales. En el primero se establecerá la operación de la empresa, es decir, cuantas plantas de producción de deben abrir y que tamaño deben tener estas, con el fin de minimizar los costos. De acuerdo con la demanda de la empresa y de cada planta, eso se hará mediante un proceso de optimización CVX, donde también se tendrán en cuenta los costos que se asumirían por tener una planta de más de alta capacidad, recompensado en el nivel de eficiencia (en la producción) de aquello que se logra aportar como valor agregado en comparación de una planta de baja capacidad. Esos costos extra se refieren a mayores costos fijos por la infraestructura necesaria para abrir una de estas plantas y los costos de transporte más altos debido a las distancias que deberían recorrer para llegar a los puntos de distribución de los productos.\n",
        "\n",
        "Como segundo punto se buscará estimar la demanda en los próximos meses mediante un proceso de estimación de Monte Carlo, con el fin de establecer que la inversión a realizar sea sostenible en el tiempo de acuerdo con la demanda de cada uno de los municipios de operación de la compañía.\n",
        "\n",
        "\n",
        "#**Objetivos**\n",
        "\n",
        "**General:**\n",
        "* Optimizar la cadena de producción y distribución de la empresa XYZ mediante la herramienta LinProg de Python para reducir costos y mejorar rentabilidades.\n",
        "\n",
        "**Específicos:**\n",
        "\n",
        "* Determinar el número de óptimo de plantas que se deben abrir y el tamaño de estas para satisfacer la demanda de la empresa XYZ.\n",
        "\n",
        "* Estimar la demanda de la empresa XYZ para la toma de decisiones con el fin de conseguir la sostenibilidad de esta a largo plazo.\n",
        "\n",
        "\n"
      ],
      "metadata": {
        "id": "jKQ6d-ppSxZ0"
      }
    },
    {
      "cell_type": "code",
      "source": [
        "# Importamos las librerías\n",
        "import numpy as np\n",
        "import pandas as pd\n",
        "import matplotlib.pyplot as plt\n",
        "from scipy.optimize import minimize\n",
        "from scipy.optimize import linprog\n",
        "import cvxpy as cp\n",
        "import warnings\n",
        "import cvxpy as cp\n",
        "from scipy import stats\n",
        "from scipy.stats import norm\n",
        "import statsmodels.api as sm\n",
        "import warnings"
      ],
      "metadata": {
        "id": "J8rN-nWIBYya"
      },
      "execution_count": 1,
      "outputs": []
    },
    {
      "cell_type": "markdown",
      "source": [
        "Demanda y costos de las plantas:\n",
        "\n",
        "|   | Demanda | A | B | C | D | E | AltoC | BajoC |\n",
        "|:---:|:---:|:---:|:---:|:---:|:---:|:---:|:---:|:---:|\n",
        "| A | 145.4  | \\$ 8 | \\$ 14 | \\$ 21 | \\$ 21 | \\$ 12 | \\$ 4730 | \\$ 3230 |\n",
        "| B | 84.1   | \\$14 | \\$ 6  | \\$ 13 | \\$ 14 | \\$ 13 | \\$ 7270 | \\$ 4980 |\n",
        "| C | 156.4  | \\$23 | \\$ 13 | \\$ 8  | \\$ 10 | \\$ 22 | \\$ 3080 | \\$ 2110 |\n",
        "| D | 1676.8 | \\$21 | \\$ 14 | \\$ 9  | \\$ 3  | \\$ 20 | \\$ 9100 | \\$ 6230 |\n",
        "| E | 2719.6 | \\$12 | \\$ 13 | \\$ 17 | \\$ 20 | \\$ 6  | \\$ 9500 | \\$ 6500 |"
      ],
      "metadata": {
        "id": "VdgbfVWKTYh6"
      }
    },
    {
      "cell_type": "code",
      "source": [
        "# Inputs del problema de optimización\n",
        "I = np.array([1, 2, 3, 4, 5])                       # Puntos de demanda\n",
        "J = np.array([1, 2, 3, 4, 5])                       # Plantas\n",
        "d = np.array([145.4, 84.1, 156.4, 1676.8, 2719.6])  # Demandas a satisfacer\n",
        "AC = np.array([4730, 7270, 3080, 9100, 9500])       # Costo fijo de cada planta con Alta capacidad\n",
        "BC = np.array([3230, 4980, 2110, 6230, 6500])       # Costo fijo de cada planta con Baja capacidad\n",
        "MAC = np.array([1500, 1500, 1500, 1500, 1500])      # Capacidad instalada de cada planta con alta capacidad\n",
        "MBC = np.array([500, 500, 500, 500, 500])           # Capacidad instalada de cada planta con baja capacidad\n",
        "cost = np.array([[8,14,21,21,12],                   # Costos de distribución\n",
        "              [14,6,13,14,13],\n",
        "              [23,13,8,10,22],\n",
        "              [21,14,9,3,20],\n",
        "              [12,13,17,20,6]])"
      ],
      "metadata": {
        "id": "uOJcAWnbJY6l"
      },
      "execution_count": 2,
      "outputs": []
    },
    {
      "cell_type": "code",
      "source": [
        "# Se definen las variables x (cantidades a distribuir), y (si abre o no la planta en el punto j)\n",
        "x = cp.Variable((5, 5), nonneg=True)\n",
        "y = cp.Variable(5, boolean=True)      # Se define como variable indicadora: 0 (BC) o 1 (AC)\n",
        "z = cp.Variable(5, boolean=True)\n",
        "\n",
        "# Objetivo:\n",
        "obj = cp.sum(cp.multiply(AC, y)) + cp.sum(cp.multiply(cost, x)) +cp.sum(cp.multiply(BC, z))\n",
        "\n",
        "# Restricciones: se verifica que se cumplan las demandas requeridas y que no se exceda la capacidad instalada\n",
        "constraints = [cp.sum(x[j,:]) <= MAC[j]*y[j]+MBC[j]*z[j] for j in range(5)]\n",
        "constraints += [cp.sum(x[:,i]) >= d[i] for i in range(5)] \n",
        "constraints += [y[j]+z[j] <=1 for j in range(5)] #Esta restricción hace que solo pueda abrirse una planta, o no se abra ninguna.\n",
        "\n",
        "# Optimización:\n",
        "prob = cp.Problem(cp.Minimize(obj), constraints) \n",
        "prob.solve()\n",
        "\n",
        "#Solución:\n",
        "print(\"Costo Total mínimo: $\", prob.value)\n",
        "print(\"Plantas que debe abrir en el punto j de Alta Capacidad= \", y.value)\n",
        "print(\"Plantas que debe abrir en el punto j de Baja Capacidad= \", z.value)"
      ],
      "metadata": {
        "colab": {
          "base_uri": "https://localhost:8080/"
        },
        "id": "fVymBhelXaoV",
        "outputId": "7232a98f-afde-4dee-ba0a-148041151755"
      },
      "execution_count": 3,
      "outputs": [
        {
          "output_type": "stream",
          "name": "stdout",
          "text": [
            "Costo Total mínimo: $ 58850.899999999994\n",
            "Plantas que debe abrir en el punto j de Alta Capacidad=  [1. 0. 0. 1. 1.]\n",
            "Plantas que debe abrir en el punto j de Baja Capacidad=  [0. 0. 1. 0. 0.]\n"
          ]
        }
      ]
    },
    {
      "cell_type": "code",
      "source": [
        "cm1=prob.value"
      ],
      "metadata": {
        "id": "4aQ-zCoh13kA"
      },
      "execution_count": 4,
      "outputs": []
    },
    {
      "cell_type": "markdown",
      "source": [
        "Teniendo en cuenta las demandas dadas, para minimizar los costos, se debe cerrar la planta B. La C debe ser de Baja Capacidad y la A, D y E deben ser de Alta Capacidad."
      ],
      "metadata": {
        "id": "nKw_RKvAXlOs"
      }
    },
    {
      "cell_type": "code",
      "source": [
        "print('Se tiene una optimización de costos con un valor de',cm1,',y las conclusiones de que se debe abrir la planta A, D, E en alta capacidad, la C de baja capacidad y la planat B cerrada')"
      ],
      "metadata": {
        "colab": {
          "base_uri": "https://localhost:8080/"
        },
        "id": "UQKZWuE_6UTn",
        "outputId": "5fda8296-ba50-471d-c142-a3df4d8c7fae"
      },
      "execution_count": 27,
      "outputs": [
        {
          "output_type": "stream",
          "name": "stdout",
          "text": [
            "Se tiene una optimización de costos con un valor de 58850.899999999994 ,y las conclusiones de que se debe abrir la planta A, D, E en alta capacidad, la C de baja capacidad y la planat B cerrada\n"
          ]
        }
      ]
    },
    {
      "cell_type": "code",
      "source": [
        "from scipy.stats import uniform"
      ],
      "metadata": {
        "id": "Tgn1hwcf9T77"
      },
      "execution_count": 5,
      "outputs": []
    },
    {
      "cell_type": "markdown",
      "source": [
        "Ahora bien, se modela un total de mil demandas bajo una distribución uniforme para cada uno de los puntos. "
      ],
      "metadata": {
        "id": "81KcH0Xs2GV9"
      }
    },
    {
      "cell_type": "code",
      "source": [
        "dem1 = np.random.uniform(140.4,150.4,10000)\n",
        "#plt.hist(dem1);"
      ],
      "metadata": {
        "id": "9nV_uD55sNB3"
      },
      "execution_count": 18,
      "outputs": []
    },
    {
      "cell_type": "code",
      "source": [
        "dem2 = np.random.uniform(79.1,89.1,10000)\n",
        "#plt.hist(dem2);"
      ],
      "metadata": {
        "id": "g0uhuOSz-4i7"
      },
      "execution_count": 19,
      "outputs": []
    },
    {
      "cell_type": "code",
      "source": [
        "dem3 = np.random.uniform(151.4,161.4,10000)\n",
        "#plt.hist(dem3);"
      ],
      "metadata": {
        "id": "q8RwJX2G_7Ea"
      },
      "execution_count": 20,
      "outputs": []
    },
    {
      "cell_type": "code",
      "source": [
        "dem4 = np.random.uniform(1671.8,1681.8,10000)\n",
        "#plt.hist(dem4);"
      ],
      "metadata": {
        "id": "DVqVtEjA_7mG"
      },
      "execution_count": 21,
      "outputs": []
    },
    {
      "cell_type": "code",
      "source": [
        "dem5 = np.random.uniform(2714.6,2724.6,1000)\n",
        "#plt.hist(dem5);"
      ],
      "metadata": {
        "id": "K_cFVN38_8Qd"
      },
      "execution_count": 22,
      "outputs": []
    },
    {
      "cell_type": "code",
      "source": [
        "# Inputs del problema de optimización\n",
        "I = np.array([1, 2, 3, 4, 5])                       # Puntos de demanda\n",
        "J = np.array([1, 2, 3, 4, 5])                       # Plantas\n",
        "d = np.array([dem1,dem2,dem3,dem4,dem5])            # Demandas a satisfacer\n",
        "AC = np.array([4730, 7270, 3080, 9100, 9500])       # Costo fijo de cada planta con Alta capacidad\n",
        "BC = np.array([3230, 4980, 2110, 6230, 6500])       # Costo fijo de cada planta con Baja capacidad\n",
        "MAC = np.array([1500, 1500, 1500, 1500, 1500])      # Capacidad instalada de cada planta con alta capacidad\n",
        "MBC = np.array([500, 500, 500, 500, 500])           # Capacidad instalada de cada planta con baja capacidad\n",
        "cost = np.array([[8,14,21,21,12],                   # Costos de distribución\n",
        "              [14,6,13,14,13],\n",
        "              [23,13,8,10,22],\n",
        "              [21,14,9,3,20],\n",
        "              [12,13,17,20,6]])"
      ],
      "metadata": {
        "id": "_irGsFXpA0r4",
        "colab": {
          "base_uri": "https://localhost:8080/"
        },
        "outputId": "f9459ffb-0987-4c0d-86cd-b71fb7bb5cb4"
      },
      "execution_count": 23,
      "outputs": [
        {
          "output_type": "stream",
          "name": "stderr",
          "text": [
            "<ipython-input-23-e2c5b35d89b0>:4: VisibleDeprecationWarning: Creating an ndarray from ragged nested sequences (which is a list-or-tuple of lists-or-tuples-or ndarrays with different lengths or shapes) is deprecated. If you meant to do this, you must specify 'dtype=object' when creating the ndarray.\n",
            "  d = np.array([dem1,dem2,dem3,dem4,dem5])            # Demandas a satisfacer\n"
          ]
        }
      ]
    },
    {
      "cell_type": "code",
      "source": [
        "solt = np.zeros(100)\n",
        "for i in range(100):\n",
        "  d=np.array([dem1[i],dem2[i],dem3[i],dem4[i],dem5[i]])\n",
        "  \n",
        "  x = cp.Variable((5, 5), nonneg=True)\n",
        "  y = cp.Variable(5, boolean=True)      # Se define como variable indicadora: 0 (BC) o 1 (AC)\n",
        "  z = cp.Variable(5, boolean=True)\n",
        "\n",
        "  # Objetivo:\n",
        "  obj = cp.sum(cp.multiply(AC, y)) + cp.sum(cp.multiply(cost, x)) +cp.sum(cp.multiply(BC, z))\n",
        "\n",
        "  # Restricciones: se verifica que se cumplan las demandas requeridas y que no se exceda la capacidad instalada\n",
        "  constraints = [cp.sum(x[j,:]) <= MAC[j]*y[j]+MBC[j]*z[j] for j in range(5)]\n",
        "  constraints += [cp.sum(x[:,i]) >= d[i] for i in range(5)] \n",
        "  constraints += [y[j]+z[j] <=1 for j in range(5)]\n",
        "\n",
        "  # Optimización:\n",
        "  prob = cp.Problem(cp.Minimize(obj), constraints) \n",
        "  prob.solve()\n",
        "\n",
        "  #Solución:\n",
        "  #print(\"Costo Total mínimo: $\", prob.value)\n",
        "  #print(\"Plantas que debe abrir en el punto j de Alta Capacidad= \", y.value)\n",
        "  #print(\"Plantas que debe abrir en el punto j de Baja Capacidad= \", z.value)\n",
        "  sol=prob.value\n",
        "  solt[i]=sol\n",
        " # print(sol)"
      ],
      "metadata": {
        "id": "QnMVsa-5A1eG"
      },
      "execution_count": 24,
      "outputs": []
    },
    {
      "cell_type": "code",
      "source": [
        "cm2=solt.mean()"
      ],
      "metadata": {
        "id": "zkklqxRaX1p3"
      },
      "execution_count": 25,
      "outputs": []
    },
    {
      "cell_type": "code",
      "source": [
        "print('En conclusión, al optimizar el problema de costos y la apertura o cierre de cada tipo de planta con las demandas ya dadas,obtenemos una minimización de costos equivalente a',cm1,)\n",
        "print('. Ahora bien, al modelar las demandas de cada punto, realizar la optimización para cada una de estas y sacar su media, se obtiene un valor bastante similar al inicial de',cm2,)\n",
        "      "
      ],
      "metadata": {
        "colab": {
          "base_uri": "https://localhost:8080/"
        },
        "id": "vTckJvt82s07",
        "outputId": "20e3c135-c324-4a70-c11c-2e64b3804d6a"
      },
      "execution_count": 26,
      "outputs": [
        {
          "output_type": "stream",
          "name": "stdout",
          "text": [
            "En conclusión, al optimizar el problema de costos y la apertura o cierre de cada tipo de planta con las demandas ya dadas,obtenemos una minimización de costos equivalente a 58850.899999999994\n",
            ". Ahora bien, al modelar las demandas de cada punto, realizar la optimización para cada una de estas y sacar su media, se obtiene un valor bastante similar al inicial de 58846.268394632054\n"
          ]
        }
      ]
    }
  ]
}